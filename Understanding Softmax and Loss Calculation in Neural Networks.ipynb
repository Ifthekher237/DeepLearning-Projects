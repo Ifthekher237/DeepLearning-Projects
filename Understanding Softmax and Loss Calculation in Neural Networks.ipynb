{
 "cells": [
  {
   "cell_type": "code",
   "execution_count": 16,
   "id": "4dd15caf",
   "metadata": {},
   "outputs": [],
   "source": [
    "import numpy as np"
   ]
  },
  {
   "cell_type": "code",
   "execution_count": 17,
   "id": "940a2c43",
   "metadata": {},
   "outputs": [],
   "source": [
    "a2 = np.random.randn(10,2)\n",
    "exp_scores = np.exp(a2)\n",
    "softmax = exp_scores / np.sum(exp_scores, axis = 1, keepdims = True)"
   ]
  },
  {
   "cell_type": "code",
   "execution_count": 18,
   "id": "a167e692",
   "metadata": {},
   "outputs": [
    {
     "name": "stdout",
     "output_type": "stream",
     "text": [
      "a2:\n",
      "[[ 0.86075567 -0.71749258]\n",
      " [ 1.09453135 -1.61940802]\n",
      " [ 1.3327194   1.64629836]\n",
      " [ 0.88783032 -1.26403245]\n",
      " [ 1.19555803 -0.28719065]\n",
      " [-0.22414358  0.62849449]\n",
      " [-1.62663261  0.772824  ]\n",
      " [-0.02647893 -0.71145685]\n",
      " [ 1.31571456  0.30207522]\n",
      " [-0.13737358  0.03035951]]\n",
      "\n",
      "exp_scores:\n",
      "[[2.36494714 0.48797428]\n",
      " [2.98778212 0.19801589]\n",
      " [3.79133955 5.1877411 ]\n",
      " [2.42985193 0.28251251]\n",
      " [3.30540178 0.75036866]\n",
      " [0.79920038 1.87478595]\n",
      " [0.19659046 2.16587405]\n",
      " [0.97386856 0.49092847]\n",
      " [3.72741349 1.35266297]\n",
      " [0.87164453 1.03082506]]\n"
     ]
    }
   ],
   "source": [
    "print(\"a2:\\n{}\\n\\nexp_scores:\\n{}\".format(a2,exp_scores))"
   ]
  },
  {
   "cell_type": "code",
   "execution_count": 19,
   "id": "f76bcd25",
   "metadata": {},
   "outputs": [
    {
     "data": {
      "text/plain": [
       "array([2.85292142, 3.185798  , 8.97908064, 2.71236444, 4.05577044,\n",
       "       2.67398633, 2.36246451, 1.46479703, 5.08007646, 1.9024696 ])"
      ]
     },
     "execution_count": 19,
     "metadata": {},
     "output_type": "execute_result"
    }
   ],
   "source": [
    "np.sum(exp_scores, axis = 1)  #shape(10,1)"
   ]
  },
  {
   "cell_type": "code",
   "execution_count": 20,
   "id": "55429d9c",
   "metadata": {},
   "outputs": [
    {
     "data": {
      "text/plain": [
       "array([[2.85292142],\n",
       "       [3.185798  ],\n",
       "       [8.97908064],\n",
       "       [2.71236444],\n",
       "       [4.05577044],\n",
       "       [2.67398633],\n",
       "       [2.36246451],\n",
       "       [1.46479703],\n",
       "       [5.08007646],\n",
       "       [1.9024696 ]])"
      ]
     },
     "execution_count": 20,
     "metadata": {},
     "output_type": "execute_result"
    }
   ],
   "source": [
    "np.sum(exp_scores, axis = 1, keepdims = True) #keepdims=True to keep it 2-dimensional"
   ]
  },
  {
   "cell_type": "code",
   "execution_count": 21,
   "id": "6d085f02",
   "metadata": {},
   "outputs": [
    {
     "data": {
      "text/plain": [
       "array([[0.82895628, 0.17104372],\n",
       "       [0.93784418, 0.06215582],\n",
       "       [0.4222414 , 0.5777586 ],\n",
       "       [0.89584272, 0.10415728],\n",
       "       [0.81498739, 0.18501261],\n",
       "       [0.29887975, 0.70112025],\n",
       "       [0.08321414, 0.91678586],\n",
       "       [0.66484881, 0.33515119],\n",
       "       [0.73373177, 0.26626823],\n",
       "       [0.45816476, 0.54183524]])"
      ]
     },
     "execution_count": 21,
     "metadata": {},
     "output_type": "execute_result"
    }
   ],
   "source": [
    "softmax = exp_scores / np.sum(exp_scores, axis = 1, keepdims = True)\n",
    "softmax"
   ]
  },
  {
   "cell_type": "markdown",
   "id": "4189de48",
   "metadata": {},
   "source": [
    "NumPy recognizes that the shapes of ***exp_scores*** and the result of the sum operation are not the same, \n",
    "but they are compatible for *broadcasting*. So, when we perform the division ***exp_scores / np.sum(exp_scores, axis=1, keepdims=True)***, NumPy broadcasts the sum result to have a shape of (10, 2), which matches the shape of ***exp_scores***, and then performs element-wise division, yielding a result of shape (10, 2), as expected."
   ]
  },
  {
   "cell_type": "code",
   "execution_count": 22,
   "id": "c5a7c8fc",
   "metadata": {},
   "outputs": [
    {
     "data": {
      "text/plain": [
       "array([0, 1, 0, 1, 1, 0, 0, 1, 1, 0])"
      ]
     },
     "execution_count": 22,
     "metadata": {},
     "output_type": "execute_result"
    }
   ],
   "source": [
    "y = np.array([0, 1, 0, 1, 1, 0, 0, 1, 1, 0])\n",
    "y"
   ]
  },
  {
   "cell_type": "code",
   "execution_count": 23,
   "id": "dd26fdd5",
   "metadata": {},
   "outputs": [
    {
     "data": {
      "text/plain": [
       "array([0.82895628, 0.06215582, 0.4222414 , 0.10415728, 0.18501261,\n",
       "       0.29887975, 0.08321414, 0.33515119, 0.26626823, 0.45816476])"
      ]
     },
     "execution_count": 23,
     "metadata": {},
     "output_type": "execute_result"
    }
   ],
   "source": [
    "# it extracts out the predicted values of the expected class\n",
    "m = np.zeros(10)\n",
    "for i,correct_index in enumerate(y):\n",
    "    predicted = softmax[i][correct_index]\n",
    "    m[i] = predicted\n",
    "m"
   ]
  },
  {
   "cell_type": "code",
   "execution_count": 24,
   "id": "251860bd",
   "metadata": {},
   "outputs": [
    {
     "data": {
      "text/plain": [
       "array([0, 0, 1, 0, 0, 1, 1, 0, 0, 1], dtype=int64)"
      ]
     },
     "execution_count": 24,
     "metadata": {},
     "output_type": "execute_result"
    }
   ],
   "source": [
    "np.argmax(softmax, axis=1)  #returns the idex number where maximum occurs"
   ]
  }
 ],
 "metadata": {
  "kernelspec": {
   "display_name": "Python 3 (ipykernel)",
   "language": "python",
   "name": "python3"
  },
  "language_info": {
   "codemirror_mode": {
    "name": "ipython",
    "version": 3
   },
   "file_extension": ".py",
   "mimetype": "text/x-python",
   "name": "python",
   "nbconvert_exporter": "python",
   "pygments_lexer": "ipython3",
   "version": "3.10.9"
  }
 },
 "nbformat": 4,
 "nbformat_minor": 5
}
